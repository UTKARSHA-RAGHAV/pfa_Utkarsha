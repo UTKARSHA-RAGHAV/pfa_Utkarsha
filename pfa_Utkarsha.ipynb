{
 "cells": [
  {
   "cell_type": "code",
   "execution_count": 1,
   "id": "2e6a1341",
   "metadata": {},
   "outputs": [
    {
     "name": "stdout",
     "output_type": "stream",
     "text": [
      "17\n"
     ]
    }
   ],
   "source": [
    "#EXERCISE- 1 , Q2\n",
    "#addition\n",
    "print(7+10)"
   ]
  },
  {
   "cell_type": "code",
   "execution_count": 2,
   "id": "cc664984",
   "metadata": {},
   "outputs": [
    {
     "name": "stdout",
     "output_type": "stream",
     "text": [
      "10\n",
      "0\n",
      "15\n",
      "5.0\n",
      "4\n",
      "16\n"
     ]
    }
   ],
   "source": [
    "#Q3\n",
    "print(5+5)#addition\n",
    "print(5-5)#subtraction\n",
    "print(3*5)#multiplication\n",
    "print(10/2)#division\n",
    "print(18%7)#remainder\n",
    "print(4**2)#exponent"
   ]
  },
  {
   "cell_type": "code",
   "execution_count": 5,
   "id": "d1304769",
   "metadata": {},
   "outputs": [
    {
     "name": "stdout",
     "output_type": "stream",
     "text": [
      "Simple Interst is 1750.0000000000002\n",
      "Total value is  6750.0\n"
     ]
    }
   ],
   "source": [
    "#Q4\n",
    "#principal\n",
    "P=5000\n",
    "#rate of interest\n",
    "R=7/100\n",
    "#time\n",
    "T=5\n",
    "#simple interest\n",
    "SI=P*R*T\n",
    "print('Simple Interst is',SI)\n",
    "#total value\n",
    "TV=P+SI\n",
    "print('Total value is ',TV)"
   ]
  },
  {
   "cell_type": "code",
   "execution_count": 6,
   "id": "e2f3539d",
   "metadata": {},
   "outputs": [
    {
     "name": "stdout",
     "output_type": "stream",
     "text": [
      "Time is  7.0\n"
     ]
    }
   ],
   "source": [
    "#Q5\n",
    "#principal\n",
    "P=8000\n",
    "#rate\n",
    "R=87/1000\n",
    "#simple interest\n",
    "SI=4872\n",
    "#total value\n",
    "T=SI/(P*R)\n",
    "print('Time is ',T)"
   ]
  },
  {
   "cell_type": "code",
   "execution_count": 7,
   "id": "6d5172d1",
   "metadata": {},
   "outputs": [
    {
     "name": "stdout",
     "output_type": "stream",
     "text": [
      "0.064\n",
      "Rate of interest is  6.4\n"
     ]
    }
   ],
   "source": [
    "#Q6\n",
    "P=3000\n",
    "T=4\n",
    "SI=768\n",
    "R=SI/(P*T)\n",
    "print(R)\n",
    "r=R*100\n",
    "print('Rate of interest is ',r)"
   ]
  },
  {
   "cell_type": "code",
   "execution_count": 6,
   "id": "22070140",
   "metadata": {},
   "outputs": [
    {
     "name": "stdout",
     "output_type": "stream",
     "text": [
      "194.87171000000012\n"
     ]
    }
   ],
   "source": [
    "#Q7\n",
    "print(100*(1+(10/100))**7)"
   ]
  },
  {
   "cell_type": "code",
   "execution_count": 7,
   "id": "7d82c3bb",
   "metadata": {},
   "outputs": [
    {
     "name": "stdout",
     "output_type": "stream",
     "text": [
      "100\n",
      "600\n"
     ]
    }
   ],
   "source": [
    "#EXERCISE-2 , #Q1\n",
    "Savings=100\n",
    "print(Savings)\n",
    "#Q2\n",
    "Growth_multiplier=1.1\n",
    "result=int(Savings)*(int(Growth_multiplier)^7)\n",
    "print(result)"
   ]
  },
  {
   "cell_type": "code",
   "execution_count": 8,
   "id": "38d90ec0",
   "metadata": {},
   "outputs": [],
   "source": [
    "#Q3\n",
    "#create a variable desc\n",
    "desc='compound interest'\n",
    "#create a boolean\n",
    "profitable=True"
   ]
  },
  {
   "cell_type": "code",
   "execution_count": 9,
   "id": "e2ea0e40",
   "metadata": {},
   "outputs": [
    {
     "data": {
      "text/plain": [
       "float"
      ]
     },
     "execution_count": 9,
     "metadata": {},
     "output_type": "execute_result"
    }
   ],
   "source": [
    "#Q4\n",
    "A=10.7\n",
    "B='This is python course'\n",
    "C=False\n",
    "type(A)"
   ]
  },
  {
   "cell_type": "code",
   "execution_count": 10,
   "id": "acc8587d",
   "metadata": {},
   "outputs": [
    {
     "data": {
      "text/plain": [
       "str"
      ]
     },
     "execution_count": 10,
     "metadata": {},
     "output_type": "execute_result"
    }
   ],
   "source": [
    "type(B)"
   ]
  },
  {
   "cell_type": "code",
   "execution_count": 11,
   "id": "b75787d2",
   "metadata": {},
   "outputs": [
    {
     "data": {
      "text/plain": [
       "bool"
      ]
     },
     "execution_count": 11,
     "metadata": {},
     "output_type": "execute_result"
    }
   ],
   "source": [
    "type(C)"
   ]
  },
  {
   "cell_type": "code",
   "execution_count": 12,
   "id": "50c4d62e",
   "metadata": {},
   "outputs": [
    {
     "data": {
      "text/plain": [
       "int"
      ]
     },
     "execution_count": 12,
     "metadata": {},
     "output_type": "execute_result"
    }
   ],
   "source": [
    "type(Savings)"
   ]
  },
  {
   "cell_type": "code",
   "execution_count": 13,
   "id": "971634d4",
   "metadata": {},
   "outputs": [
    {
     "data": {
      "text/plain": [
       "bool"
      ]
     },
     "execution_count": 13,
     "metadata": {},
     "output_type": "execute_result"
    }
   ],
   "source": [
    "type(profitable)"
   ]
  },
  {
   "cell_type": "code",
   "execution_count": 14,
   "id": "c13f0bfd",
   "metadata": {},
   "outputs": [
    {
     "data": {
      "text/plain": [
       "str"
      ]
     },
     "execution_count": 14,
     "metadata": {},
     "output_type": "execute_result"
    }
   ],
   "source": [
    "type(desc)"
   ]
  },
  {
   "cell_type": "code",
   "execution_count": 15,
   "id": "5f9a19d6",
   "metadata": {},
   "outputs": [
    {
     "data": {
      "text/plain": [
       "float"
      ]
     },
     "execution_count": 15,
     "metadata": {},
     "output_type": "execute_result"
    }
   ],
   "source": [
    "type(Growth_multiplier)"
   ]
  },
  {
   "cell_type": "code",
   "execution_count": 17,
   "id": "49ed512d",
   "metadata": {},
   "outputs": [
    {
     "name": "stdout",
     "output_type": "stream",
     "text": [
      "110.00000000000001\n"
     ]
    }
   ],
   "source": [
    "#Q5\n",
    "year1=Savings*Growth_multiplier\n",
    "print(year1)\n"
   ]
  },
  {
   "cell_type": "code",
   "execution_count": 18,
   "id": "4730b978",
   "metadata": {},
   "outputs": [
    {
     "data": {
      "text/plain": [
       "float"
      ]
     },
     "execution_count": 18,
     "metadata": {},
     "output_type": "execute_result"
    }
   ],
   "source": [
    "#type of year1\n",
    "type(year1)"
   ]
  },
  {
   "cell_type": "code",
   "execution_count": 19,
   "id": "8062cdfb",
   "metadata": {},
   "outputs": [
    {
     "name": "stdout",
     "output_type": "stream",
     "text": [
      "compound interestcompound interest\n"
     ]
    }
   ],
   "source": [
    "# sum of desc and desc and store result in doubledesc\n",
    "doubledesc=desc+desc\n",
    "print(doubledesc)"
   ]
  },
  {
   "cell_type": "code",
   "execution_count": 20,
   "id": "3cc498d6",
   "metadata": {},
   "outputs": [
    {
     "name": "stdout",
     "output_type": "stream",
     "text": [
      "I started with $100and now have $194.87171000000012. Awesome!\n"
     ]
    }
   ],
   "source": [
    "#Q6\n",
    "# definition of savings and result\n",
    "Savings=100\n",
    "result=(100*(1.1)**7)\n",
    "#can only concatenate str (not \"int\") to str - FIX\n",
    "\n",
    "print(\"I started with $\" + Savings +\"and now have $\"+ result +\". Awesome!\")\n"
   ]
  },
  {
   "cell_type": "code",
   "execution_count": 21,
   "id": "27ad7072",
   "metadata": {},
   "outputs": [
    {
     "name": "stdout",
     "output_type": "stream",
     "text": [
      "6.2831852\n"
     ]
    }
   ],
   "source": [
    "#Q7\n",
    "#definition of pi_string\n",
    "pi_string=\"3.1415926\"\n",
    "#convert pi_string to pi_float\n",
    "pi_float = float(pi_string)\n",
    "double_pi= pi_float*2\n",
    "print(double_pi)"
   ]
  },
  {
   "cell_type": "code",
   "execution_count": 22,
   "id": "5535056b",
   "metadata": {},
   "outputs": [
    {
     "data": {
      "text/plain": [
       "'I can add integers, like 5 to strings.'"
      ]
     },
     "execution_count": 22,
     "metadata": {},
     "output_type": "execute_result"
    }
   ],
   "source": [
    "#Q8, statement-1\n",
    "\"I can add integers, like \" + str(5) + \" to strings.\""
   ]
  },
  {
   "cell_type": "code",
   "execution_count": 23,
   "id": "3e3ef34a",
   "metadata": {},
   "outputs": [
    {
     "data": {
      "text/plain": [
       "'I said Hey Hey Hey!'"
      ]
     },
     "execution_count": 23,
     "metadata": {},
     "output_type": "execute_result"
    }
   ],
   "source": [
    "#statement-2\n",
    "\"I said \" + (\"Hey \" * 2) + \"Hey!\""
   ]
  },
  {
   "cell_type": "code",
   "execution_count": 24,
   "id": "7b942ec2",
   "metadata": {},
   "outputs": [
    {
     "ename": "TypeError",
     "evalue": "can only concatenate str (not \"int\") to str",
     "output_type": "error",
     "traceback": [
      "\u001b[1;31m---------------------------------------------------------------------------\u001b[0m",
      "\u001b[1;31mTypeError\u001b[0m                                 Traceback (most recent call last)",
      "\u001b[1;32m<ipython-input-24-5607077cba1e>\u001b[0m in \u001b[0;36m<module>\u001b[1;34m\u001b[0m\n\u001b[1;32m----> 1\u001b[1;33m \u001b[1;34m\"The correct answer to this multiple choice exercise is answer number \"\u001b[0m \u001b[1;33m+\u001b[0m \u001b[1;36m2\u001b[0m\u001b[1;33m\u001b[0m\u001b[1;33m\u001b[0m\u001b[0m\n\u001b[0m",
      "\u001b[1;31mTypeError\u001b[0m: can only concatenate str (not \"int\") to str"
     ]
    }
   ],
   "source": [
    "#statement-3\n",
    "\"The correct answer to this multiple choice exercise is answer number \" + 2"
   ]
  },
  {
   "cell_type": "code",
   "execution_count": 25,
   "id": "002c75e3",
   "metadata": {},
   "outputs": [
    {
     "data": {
      "text/plain": [
       "1"
      ]
     },
     "execution_count": 25,
     "metadata": {},
     "output_type": "execute_result"
    }
   ],
   "source": [
    "#statement-4\n",
    "True + False"
   ]
  },
  {
   "cell_type": "code",
   "execution_count": 29,
   "id": "51706a8b",
   "metadata": {},
   "outputs": [
    {
     "name": "stdout",
     "output_type": "stream",
     "text": [
      "Enter a number: 40\n",
      "Number is Even\n"
     ]
    }
   ],
   "source": [
    "#EXERCISE-3 ,Q1\n",
    "#Python program to check given no. is  even or not\n",
    "num = int(input(\"Enter a number: \"))\n",
    "if (num % 2) == 0:\n",
    "   print(\"Number is Even\")\n",
    "else:\n",
    "   print(\"Number is Odd\")"
   ]
  },
  {
   "cell_type": "code",
   "execution_count": 27,
   "id": "c351032c",
   "metadata": {},
   "outputs": [
    {
     "name": "stdout",
     "output_type": "stream",
     "text": [
      "86.0\n"
     ]
    }
   ],
   "source": [
    "#Q2\n",
    "# Python Program to convert temperature in celsius to fahrenheit\n",
    "\n",
    "# change this value for a different result\n",
    "celsius = 30\n",
    "\n",
    "# calculate fahrenheit\n",
    "fahrenheit = (celsius * 1.8) + 32\n",
    "print(fahrenheit)\n"
   ]
  },
  {
   "cell_type": "code",
   "execution_count": 2,
   "id": "6b26453f",
   "metadata": {},
   "outputs": [
    {
     "name": "stdout",
     "output_type": "stream",
     "text": [
      "The area of triangle is 5.332682251925386\n"
     ]
    }
   ],
   "source": [
    "#Q3\n",
    "#Python program to find area of triangle\n",
    "import math\n",
    "a = 4 \n",
    "b = 3  \n",
    "c = 6  \n",
    "s = (a + b + c) / 2\n",
    "\n",
    "Area = math.sqrt(s*(s-a)*(s-b)*(s-c)) \n",
    "print('The area of triangle is' , Area)"
   ]
  },
  {
   "cell_type": "code",
   "execution_count": 3,
   "id": "fe8f9c1a",
   "metadata": {},
   "outputs": [
    {
     "name": "stdout",
     "output_type": "stream",
     "text": [
      " Please Enter the radius of a circle: 4\n",
      "The area of triangle is  50.24\n",
      "The circumferene of triangle is  25.12\n"
     ]
    }
   ],
   "source": [
    "#Q4\n",
    "# Python Program to find Diameter, Circumference, and Area Of a Circle\n",
    "\n",
    "PI = 3.14\n",
    "radius = float(input(' Please Enter the radius of a circle: '))\n",
    "\n",
    "Circumference = 2 * PI * radius\n",
    "Area = PI * radius * radius\n",
    "\n",
    "print('The area of triangle is ', Area)\n",
    "print('The circumferene of triangle is ', Circumference)\n"
   ]
  },
  {
   "cell_type": "code",
   "execution_count": 4,
   "id": "4f1b3f83",
   "metadata": {},
   "outputs": [
    {
     "name": "stdout",
     "output_type": "stream",
     "text": [
      "Please enter the number23\n",
      "Number is not a multiple of 5\n"
     ]
    }
   ],
   "source": [
    "#Q5\n",
    "#Python program to check if integer is multiple of 5\n",
    "x=int(input('Please enter the number'))\n",
    "if (x % 5 == 0): \n",
    "    print(\"Number is multiple of 5\")\n",
    "else:\n",
    "    print(\"Number is not a multiple of 5\")"
   ]
  },
  {
   "cell_type": "code",
   "execution_count": null,
   "id": "c37c7d7b",
   "metadata": {},
   "outputs": [],
   "source": []
  }
 ],
 "metadata": {
  "kernelspec": {
   "display_name": "Python 3",
   "language": "python",
   "name": "python3"
  },
  "language_info": {
   "codemirror_mode": {
    "name": "ipython",
    "version": 3
   },
   "file_extension": ".py",
   "mimetype": "text/x-python",
   "name": "python",
   "nbconvert_exporter": "python",
   "pygments_lexer": "ipython3",
   "version": "3.8.8"
  }
 },
 "nbformat": 4,
 "nbformat_minor": 5
}
