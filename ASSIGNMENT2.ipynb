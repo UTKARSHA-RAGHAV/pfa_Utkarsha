{
 "cells": [
  {
   "cell_type": "code",
   "execution_count": 1,
   "id": "2217e313",
   "metadata": {},
   "outputs": [
    {
     "name": "stdout",
     "output_type": "stream",
     "text": [
      "Enter the number of elements in the list: 4\n",
      "Enter the elements :2\n",
      "Enter the elements :4\n",
      "Enter the elements :6\n",
      "Enter the elements :8\n",
      "['2', '4', '6', '8']\n",
      "['8', '4', '6', '2']\n"
     ]
    }
   ],
   "source": [
    "# Q1\n",
    "# Create an empty list\n",
    "# Then, Assign the list to variable 'List'.\n",
    "List=[]\n",
    "# Input the number of elements in list and further ask about each element to be entered in the list.\n",
    "x= int(input(\"Enter the number of elements in the list: \"))\n",
    "for i in range(x):\n",
    "    a = input(\"Enter the elements :\")\n",
    "    List.append(a)\n",
    "#Print the appended list assigned to 'List'.\n",
    "print(List)\n",
    "#Defining the first element of the list.\n",
    "Ist=List[0]\n",
    "#replacing fist and last elements of the lists.\n",
    "List[0]=List[-1]\n",
    "List[-1]=Ist\n",
    "print(List)"
   ]
  },
  {
   "cell_type": "code",
   "execution_count": 2,
   "id": "e5e63002",
   "metadata": {},
   "outputs": [
    {
     "name": "stdout",
     "output_type": "stream",
     "text": [
      "5\n"
     ]
    }
   ],
   "source": [
    "# Q2 \n",
    "# Find the length of the given list.\n",
    "X = [1, 4, 5, 7, 8]\n",
    "print(len(X))"
   ]
  },
  {
   "cell_type": "code",
   "execution_count": 5,
   "id": "5719c40c",
   "metadata": {},
   "outputs": [
    {
     "name": "stdout",
     "output_type": "stream",
     "text": [
      "['Geeks', 'are', 'for', 'geeks!']\n",
      "The length of list is: 4\n"
     ]
    }
   ],
   "source": [
    "# Q3\n",
    "# Create an empty list x.\n",
    "x = []\n",
    "# Append the elements \"Geeks\", \"are\", \"for\", \"geeks!\" to x\n",
    "x.append(\"Geeks\")\n",
    "x.append(\"are\")\n",
    "x.append(\"for\")\n",
    "x.append(\"geeks!\")\n",
    "#print the list 'x'\n",
    "print(x)\n",
    "# Print the length of the list.\n",
    "print(\"The length of list is:\", len(x))"
   ]
  },
  {
   "cell_type": "code",
   "execution_count": 6,
   "id": "42e36dab",
   "metadata": {},
   "outputs": [
    {
     "name": "stdout",
     "output_type": "stream",
     "text": [
      "Enter the first number:  23\n",
      "Enter the second number:  34\n",
      "Maximum number is 34 and minimun number is 23\n"
     ]
    }
   ],
   "source": [
    "# Q4\n",
    "# Input the number of elements.\n",
    "a = input(\"Enter the first number:  \")\n",
    "b = input(\"Enter the second number:  \")\n",
    "# Create an empty list.\n",
    "x = []\n",
    "#Append both the inputs in the empty list\n",
    "x.append(a)\n",
    "x.append(b)\n",
    "# Print maximum and minimum numbers\n",
    "print(\"Maximum number is\",max(x),\"and minimun number is\",min(x))\n"
   ]
  }
 ],
 "metadata": {
  "kernelspec": {
   "display_name": "Python 3",
   "language": "python",
   "name": "python3"
  },
  "language_info": {
   "codemirror_mode": {
    "name": "ipython",
    "version": 3
   },
   "file_extension": ".py",
   "mimetype": "text/x-python",
   "name": "python",
   "nbconvert_exporter": "python",
   "pygments_lexer": "ipython3",
   "version": "3.8.8"
  }
 },
 "nbformat": 4,
 "nbformat_minor": 5
}
